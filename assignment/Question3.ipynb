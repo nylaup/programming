{
 "cells": [
  {
   "cell_type": "code",
   "execution_count": null,
   "metadata": {},
   "outputs": [],
   "source": [
    "#Question 1\n",
    "def sampleavg(x):\n",
    "    xbar = np.sum(x)/len(x)\n",
    "    return xbar\n",
    "print(\"Mean of x: \", sampleavg(x))\n",
    "\n",
    "#Question 2\n",
    "def stddev(x):\n",
    "    mean = sampleavg(x)\n",
    "    diffsum = np.sum((x-mean)**2)\n",
    "    sd = np.sqrt(diffsum/(len(x)-1))\n",
    "    return sd\n",
    "print(\"Sample standard deviation of x:\", stddev(x))\n",
    "\n",
    "#Question 3\n",
    "def zscore(x):\n",
    "    mean = sampleavg(x)\n",
    "    sd = stddev(x)\n",
    "    z = (x-mean) / sd\n",
    "    return z\n",
    "print(\"Z scores for x: \", zscore(x)[1:10])\n",
    "\n",
    "#Question 4\n",
    "def covariance(x, y):\n",
    "    xmean = sampleavg(x)\n",
    "    ymean = sampleavg(y)\n",
    "    N = len(x)\n",
    "    cov = np.sum((x-xmean)*(y-ymean)) / (N-1)\n",
    "    return cov\n",
    "print(\"Covariance of x and y: \", covariance(x,y))\n",
    "\n",
    "\n",
    "#Question 5\n",
    "def corrcoeff(x, y):\n",
    "    xsd = stddev(x)\n",
    "    ysd = stddev(y)\n",
    "    r = covariance(x,y) / (xsd * ysd)\n",
    "    return r\n",
    "print(\"Correlation Coefficient of x and y: \", corrcoeff(x,y))\n"
   ]
  }
 ],
 "metadata": {
  "language_info": {
   "name": "python"
  }
 },
 "nbformat": 4,
 "nbformat_minor": 2
}
